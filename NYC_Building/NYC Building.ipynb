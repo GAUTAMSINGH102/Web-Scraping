{
 "cells": [
  {
   "cell_type": "code",
   "execution_count": 72,
   "id": "39ea1969",
   "metadata": {},
   "outputs": [],
   "source": [
    "from selenium import webdriver\n",
    "from selenium.webdriver.support.ui import WebDriverWait\n",
    "from selenium.webdriver.common.by import By"
   ]
  },
  {
   "cell_type": "code",
   "execution_count": 73,
   "id": "ce0bea45",
   "metadata": {},
   "outputs": [],
   "source": [
    "from bs4 import BeautifulSoup as BS"
   ]
  },
  {
   "cell_type": "code",
   "execution_count": 74,
   "id": "0ebc2ece",
   "metadata": {},
   "outputs": [],
   "source": [
    "from time import sleep"
   ]
  },
  {
   "cell_type": "code",
   "execution_count": 75,
   "id": "49bcba80",
   "metadata": {},
   "outputs": [],
   "source": [
    "import pandas as pd"
   ]
  },
  {
   "cell_type": "code",
   "execution_count": 76,
   "id": "ee7374ce",
   "metadata": {},
   "outputs": [],
   "source": [
    "import csv"
   ]
  },
  {
   "cell_type": "code",
   "execution_count": 77,
   "id": "5be6254e",
   "metadata": {},
   "outputs": [],
   "source": [
    "import warnings\n",
    "warnings.filterwarnings('ignore')"
   ]
  },
  {
   "cell_type": "code",
   "execution_count": 78,
   "id": "4b344f11",
   "metadata": {},
   "outputs": [],
   "source": [
    "# Start the Selenium WebDriver\n",
    "path = r'chromedriver.exe'\n",
    "driver = webdriver.Chrome(path)"
   ]
  },
  {
   "cell_type": "code",
   "execution_count": 79,
   "id": "29f6859c",
   "metadata": {},
   "outputs": [],
   "source": [
    "# Navigate to the URL containing the data you want to scrape\n",
    "# url = \"https://a810-bisweb.nyc.gov/bisweb/ResultsByNameServlet?licname=a&licensetype=G&go1=+GO+&requestid=0\"\n",
    "url = \"https://a810-bisweb.nyc.gov/bisweb/ResultsByNameServlet?next.x=48&next.y=9&allcount=0071&licensetype=G&licname=a&licstatus=&requestid=1\""
   ]
  },
  {
   "cell_type": "code",
   "execution_count": 80,
   "id": "0bbbcf71",
   "metadata": {},
   "outputs": [],
   "source": [
    "driver.get(url)"
   ]
  },
  {
   "cell_type": "code",
   "execution_count": 81,
   "id": "3393eb64",
   "metadata": {},
   "outputs": [],
   "source": [
    "page = driver.page_source"
   ]
  },
  {
   "cell_type": "code",
   "execution_count": 82,
   "id": "e5543304",
   "metadata": {},
   "outputs": [],
   "source": [
    "soup = BS(page, \"lxml\")\n",
    "body = soup.find('body')\n",
    "center = body.find('center')\n",
    "table = center.find_all('table')"
   ]
  },
  {
   "cell_type": "code",
   "execution_count": 83,
   "id": "9edd1041",
   "metadata": {},
   "outputs": [],
   "source": [
    "# for i, tbl in enumerate(table):\n",
    "#     print(i)\n",
    "#     print(tbl)\n",
    "#     print(\"************************************************************\")"
   ]
  },
  {
   "cell_type": "code",
   "execution_count": 84,
   "id": "af099db0",
   "metadata": {},
   "outputs": [],
   "source": [
    "# personlinks = pd.DataFrame(columns=['Name', 'Link'])"
   ]
  },
  {
   "cell_type": "code",
   "execution_count": 87,
   "id": "b39d16bc",
   "metadata": {},
   "outputs": [],
   "source": [
    "personlinks = pd.read_csv('personlinks.csv')"
   ]
  },
  {
   "cell_type": "code",
   "execution_count": 88,
   "id": "4b636e6e",
   "metadata": {
    "scrolled": true
   },
   "outputs": [
    {
     "data": {
      "text/html": [
       "<div>\n",
       "<style scoped>\n",
       "    .dataframe tbody tr th:only-of-type {\n",
       "        vertical-align: middle;\n",
       "    }\n",
       "\n",
       "    .dataframe tbody tr th {\n",
       "        vertical-align: top;\n",
       "    }\n",
       "\n",
       "    .dataframe thead th {\n",
       "        text-align: right;\n",
       "    }\n",
       "</style>\n",
       "<table border=\"1\" class=\"dataframe\">\n",
       "  <thead>\n",
       "    <tr style=\"text-align: right;\">\n",
       "      <th></th>\n",
       "      <th>Name</th>\n",
       "      <th>Link</th>\n",
       "    </tr>\n",
       "  </thead>\n",
       "  <tbody>\n",
       "    <tr>\n",
       "      <th>0</th>\n",
       "      <td>AAFOUALLAH RIAD</td>\n",
       "      <td>https://a810-bisweb.nyc.gov/bisweb/LicenseQuer...</td>\n",
       "    </tr>\n",
       "    <tr>\n",
       "      <th>1</th>\n",
       "      <td>AAMAR ZEESHAN</td>\n",
       "      <td>https://a810-bisweb.nyc.gov/bisweb/LicenseQuer...</td>\n",
       "    </tr>\n",
       "    <tr>\n",
       "      <th>2</th>\n",
       "      <td>AAMER MUSHTAQ</td>\n",
       "      <td>https://a810-bisweb.nyc.gov/bisweb/LicenseQuer...</td>\n",
       "    </tr>\n",
       "    <tr>\n",
       "      <th>3</th>\n",
       "      <td>AANTUNES LUIS</td>\n",
       "      <td>https://a810-bisweb.nyc.gov/bisweb/LicenseQuer...</td>\n",
       "    </tr>\n",
       "    <tr>\n",
       "      <th>4</th>\n",
       "      <td>AARON BROYN</td>\n",
       "      <td>https://a810-bisweb.nyc.gov/bisweb/LicenseQuer...</td>\n",
       "    </tr>\n",
       "  </tbody>\n",
       "</table>\n",
       "</div>"
      ],
      "text/plain": [
       "              Name                                               Link\n",
       "0  AAFOUALLAH RIAD  https://a810-bisweb.nyc.gov/bisweb/LicenseQuer...\n",
       "1    AAMAR ZEESHAN  https://a810-bisweb.nyc.gov/bisweb/LicenseQuer...\n",
       "2    AAMER MUSHTAQ  https://a810-bisweb.nyc.gov/bisweb/LicenseQuer...\n",
       "3    AANTUNES LUIS  https://a810-bisweb.nyc.gov/bisweb/LicenseQuer...\n",
       "4      AARON BROYN  https://a810-bisweb.nyc.gov/bisweb/LicenseQuer..."
      ]
     },
     "execution_count": 88,
     "metadata": {},
     "output_type": "execute_result"
    }
   ],
   "source": [
    "personlinks.head()"
   ]
  },
  {
   "cell_type": "code",
   "execution_count": null,
   "id": "d9212492",
   "metadata": {},
   "outputs": [],
   "source": []
  },
  {
   "cell_type": "code",
   "execution_count": 89,
   "id": "db022f8a",
   "metadata": {
    "scrolled": false
   },
   "outputs": [],
   "source": [
    "for i, tbl in enumerate(table):\n",
    "    if(i == 4):\n",
    "        \n",
    "        intbody = tbl.find('tbody')\n",
    "        intr = intbody.find_all('tr')\n",
    "        \n",
    "        for k, tr in enumerate(intr):\n",
    "            if(k !=0):\n",
    "\n",
    "                inintd = tr.find_all('td', class_='content')\n",
    "\n",
    "                combinefirsturl = \"https://a810-bisweb.nyc.gov/bisweb\"\n",
    "                \n",
    "                for j, td in enumerate(inintd):\n",
    "                    \n",
    "                    if(j == 0):\n",
    "\n",
    "                        link = td.find(\"a\")\n",
    "                        # print(link.text)\n",
    "                        Name = link.text\n",
    "                        href = link[\"href\"]\n",
    "                        combine = combinefirsturl + \"/\" + href\n",
    "                        # print(combine)   \n",
    "                        Link = combine\n",
    "                        \n",
    "                        row = [Name, Link]\n",
    "        \n",
    "                        # Deprecated\n",
    "                        # personlinks = personlinks.append(pd.Series(row, index = personlinks.columns), ignore_index = True)\n",
    "                \n",
    "                        # Convert the row to a dataframe\n",
    "                        row_df = pd.DataFrame([row], columns=personlinks.columns)\n",
    "\n",
    "                        # Concatenate the row dataframe to the existing dataframe\n",
    "                        personlinks = pd.concat([personlinks, row_df], ignore_index=True)"
   ]
  },
  {
   "cell_type": "code",
   "execution_count": 90,
   "id": "4c68b2c2",
   "metadata": {
    "scrolled": true
   },
   "outputs": [
    {
     "data": {
      "text/html": [
       "<div>\n",
       "<style scoped>\n",
       "    .dataframe tbody tr th:only-of-type {\n",
       "        vertical-align: middle;\n",
       "    }\n",
       "\n",
       "    .dataframe tbody tr th {\n",
       "        vertical-align: top;\n",
       "    }\n",
       "\n",
       "    .dataframe thead th {\n",
       "        text-align: right;\n",
       "    }\n",
       "</style>\n",
       "<table border=\"1\" class=\"dataframe\">\n",
       "  <thead>\n",
       "    <tr style=\"text-align: right;\">\n",
       "      <th></th>\n",
       "      <th>Name</th>\n",
       "      <th>Link</th>\n",
       "    </tr>\n",
       "  </thead>\n",
       "  <tbody>\n",
       "    <tr>\n",
       "      <th>0</th>\n",
       "      <td>AAFOUALLAH RIAD</td>\n",
       "      <td>https://a810-bisweb.nyc.gov/bisweb/LicenseQuer...</td>\n",
       "    </tr>\n",
       "    <tr>\n",
       "      <th>1</th>\n",
       "      <td>AAMAR ZEESHAN</td>\n",
       "      <td>https://a810-bisweb.nyc.gov/bisweb/LicenseQuer...</td>\n",
       "    </tr>\n",
       "    <tr>\n",
       "      <th>2</th>\n",
       "      <td>AAMER MUSHTAQ</td>\n",
       "      <td>https://a810-bisweb.nyc.gov/bisweb/LicenseQuer...</td>\n",
       "    </tr>\n",
       "    <tr>\n",
       "      <th>3</th>\n",
       "      <td>AANTUNES LUIS</td>\n",
       "      <td>https://a810-bisweb.nyc.gov/bisweb/LicenseQuer...</td>\n",
       "    </tr>\n",
       "    <tr>\n",
       "      <th>4</th>\n",
       "      <td>AARON BROYN</td>\n",
       "      <td>https://a810-bisweb.nyc.gov/bisweb/LicenseQuer...</td>\n",
       "    </tr>\n",
       "    <tr>\n",
       "      <th>...</th>\n",
       "      <td>...</td>\n",
       "      <td>...</td>\n",
       "    </tr>\n",
       "    <tr>\n",
       "      <th>135</th>\n",
       "      <td>ACEVEDO JR GABRIEL</td>\n",
       "      <td>https://a810-bisweb.nyc.gov/bisweb/LicenseQuer...</td>\n",
       "    </tr>\n",
       "    <tr>\n",
       "      <th>136</th>\n",
       "      <td>ACHAIA JAMES</td>\n",
       "      <td>https://a810-bisweb.nyc.gov/bisweb/LicenseQuer...</td>\n",
       "    </tr>\n",
       "    <tr>\n",
       "      <th>137</th>\n",
       "      <td>ACHENBACH SIMREL</td>\n",
       "      <td>https://a810-bisweb.nyc.gov/bisweb/LicenseQuer...</td>\n",
       "    </tr>\n",
       "    <tr>\n",
       "      <th>138</th>\n",
       "      <td>ACIERNO ANGELO</td>\n",
       "      <td>https://a810-bisweb.nyc.gov/bisweb/LicenseQuer...</td>\n",
       "    </tr>\n",
       "    <tr>\n",
       "      <th>139</th>\n",
       "      <td>ACIERNO MICHAEL</td>\n",
       "      <td>https://a810-bisweb.nyc.gov/bisweb/LicenseQuer...</td>\n",
       "    </tr>\n",
       "  </tbody>\n",
       "</table>\n",
       "<p>140 rows × 2 columns</p>\n",
       "</div>"
      ],
      "text/plain": [
       "                   Name                                               Link\n",
       "0       AAFOUALLAH RIAD  https://a810-bisweb.nyc.gov/bisweb/LicenseQuer...\n",
       "1         AAMAR ZEESHAN  https://a810-bisweb.nyc.gov/bisweb/LicenseQuer...\n",
       "2         AAMER MUSHTAQ  https://a810-bisweb.nyc.gov/bisweb/LicenseQuer...\n",
       "3         AANTUNES LUIS  https://a810-bisweb.nyc.gov/bisweb/LicenseQuer...\n",
       "4           AARON BROYN  https://a810-bisweb.nyc.gov/bisweb/LicenseQuer...\n",
       "..                  ...                                                ...\n",
       "135  ACEVEDO JR GABRIEL  https://a810-bisweb.nyc.gov/bisweb/LicenseQuer...\n",
       "136        ACHAIA JAMES  https://a810-bisweb.nyc.gov/bisweb/LicenseQuer...\n",
       "137    ACHENBACH SIMREL  https://a810-bisweb.nyc.gov/bisweb/LicenseQuer...\n",
       "138      ACIERNO ANGELO  https://a810-bisweb.nyc.gov/bisweb/LicenseQuer...\n",
       "139     ACIERNO MICHAEL  https://a810-bisweb.nyc.gov/bisweb/LicenseQuer...\n",
       "\n",
       "[140 rows x 2 columns]"
      ]
     },
     "execution_count": 90,
     "metadata": {},
     "output_type": "execute_result"
    }
   ],
   "source": [
    "personlinks"
   ]
  },
  {
   "cell_type": "code",
   "execution_count": 91,
   "id": "30261810",
   "metadata": {},
   "outputs": [],
   "source": [
    "personlinks.to_csv('personLinks.csv', index=False)"
   ]
  },
  {
   "cell_type": "code",
   "execution_count": null,
   "id": "29563a2a",
   "metadata": {},
   "outputs": [],
   "source": []
  },
  {
   "cell_type": "markdown",
   "id": "b4ee4cc1",
   "metadata": {},
   "source": [
    "## **For Next Page**"
   ]
  },
  {
   "cell_type": "code",
   "execution_count": 37,
   "id": "ee693a27",
   "metadata": {},
   "outputs": [],
   "source": [
    "next_button = driver.find_element(by=By.XPATH, value=\"//*[@name='next']\")\n",
    "next_button.click()"
   ]
  },
  {
   "cell_type": "code",
   "execution_count": null,
   "id": "b831cad7",
   "metadata": {},
   "outputs": [],
   "source": []
  },
  {
   "cell_type": "code",
   "execution_count": 58,
   "id": "52332070",
   "metadata": {},
   "outputs": [],
   "source": [
    "# for i, tbl in enumerate(table):\n",
    "#     if i == 5:\n",
    "#         ftbody = tbl.find('tbody')\n",
    "\n",
    "#         # Rest of your code for scraping the data from the current page...\n",
    "\n",
    "#         # Click the \"Next\" button\n",
    "# #         next_button = driver.find_element_by_xpath(\"//input[@alt='Next']\")\n",
    "#         next_button = driver.find_element(by=By.XPATH, value=\"//input[@alt='Next']\")\n",
    "#         next_button.click()\n",
    "\n",
    "#         # Pause for a few seconds\n",
    "#         sleep(2)"
   ]
  }
 ],
 "metadata": {
  "kernelspec": {
   "display_name": "Python 3 (ipykernel)",
   "language": "python",
   "name": "python3"
  },
  "language_info": {
   "codemirror_mode": {
    "name": "ipython",
    "version": 3
   },
   "file_extension": ".py",
   "mimetype": "text/x-python",
   "name": "python",
   "nbconvert_exporter": "python",
   "pygments_lexer": "ipython3",
   "version": "3.10.0"
  }
 },
 "nbformat": 4,
 "nbformat_minor": 5
}
